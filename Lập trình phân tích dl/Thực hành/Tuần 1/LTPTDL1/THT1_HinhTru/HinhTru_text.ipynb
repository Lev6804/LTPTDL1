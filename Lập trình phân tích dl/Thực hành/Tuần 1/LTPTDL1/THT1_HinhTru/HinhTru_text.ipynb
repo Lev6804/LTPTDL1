{
 "cells": [
  {
   "cell_type": "code",
   "execution_count": 1,
   "metadata": {},
   "outputs": [],
   "source": [
    "import HinhTru_Model as ht"
   ]
  },
  {
   "cell_type": "code",
   "execution_count": 2,
   "metadata": {},
   "outputs": [
    {
     "name": "stdout",
     "output_type": "stream",
     "text": [
      "Bán Kính: 4.00\n",
      "Chiều cao: 5.00\n",
      "S xung quang: 125.66\n",
      "S toàn phần: 226.19\n",
      "Thể Tích: 251.33\n",
      "---------------------\n"
     ]
    }
   ],
   "source": [
    "hinhTru1 = ht.HinhTru_Model(4,5)\n",
    "hinhTru1.display()"
   ]
  }
 ],
 "metadata": {
  "kernelspec": {
   "display_name": "Python 3",
   "language": "python",
   "name": "python3"
  },
  "language_info": {
   "codemirror_mode": {
    "name": "ipython",
    "version": 3
   },
   "file_extension": ".py",
   "mimetype": "text/x-python",
   "name": "python",
   "nbconvert_exporter": "python",
   "pygments_lexer": "ipython3",
   "version": "3.11.4"
  }
 },
 "nbformat": 4,
 "nbformat_minor": 2
}
